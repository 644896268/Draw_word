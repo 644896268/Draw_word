{
 "cells": [
  {
   "cell_type": "code",
   "execution_count": 2,
   "metadata": {
    "collapsed": true
   },
   "outputs": [],
   "source": [
    "#灰度字符画\n",
    "import cv2\n",
    "import numpy as np\n",
    "import random"
   ]
  },
  {
   "cell_type": "code",
   "execution_count": 8,
   "metadata": {},
   "outputs": [
    {
     "name": "stdout",
     "output_type": "stream",
     "text": [
      "384 684\n"
     ]
    }
   ],
   "source": [
    "img = cv2.imread(\"img1.jpg\",1)\n",
    "img = cv2.resize(img,(684,384),interpolation=cv2.INTER_LINEAR)\n",
    "gray = cv2.cvtColor(img,cv2.COLOR_BGR2GRAY)\n",
    "#得到灰度图像\n",
    "grayInfo = gray.shape\n",
    "height = grayInfo[0]\n",
    "width = grayInfo[1]\n",
    "print(height,width)\n",
    "# cv2.imshow('111',gray)\n",
    "# cv2.waitKey(0)"
   ]
  },
  {
   "cell_type": "markdown",
   "metadata": {},
   "source": [
    "cv2.resize(image,新二维图片尺寸,interpolation=差值模式）：：\n",
    "\n",
    "１）INTER_NEAREST - 最近邻插值法\n",
    "\n",
    "２）INTER_LINEAR - 双线性插值法（默认）\n",
    "\n",
    "３）INTER_AREA - 基于局部像素的重采样（resampling using pixel area relation）。对于图像抽取（image decimation）来说，这可能是一个更好的方法。但如果是放大图像时，它和最近邻法的效果类似。\n",
    "\n",
    "４）INTER_CUBIC - 基于4x4像素邻域的3次插值法\n",
    "\n",
    "５）INTER_LANCZOS4 - 基于8x8像素邻域的Lanczos插值"
   ]
  },
  {
   "cell_type": "code",
   "execution_count": 9,
   "metadata": {},
   "outputs": [
    {
     "data": {
      "text/plain": [
       "18"
      ]
     },
     "execution_count": 9,
     "metadata": {},
     "output_type": "execute_result"
    }
   ],
   "source": [
    "fa = ['','-','1','+','7','0','3','4','5','6','8','X','W','*','$','%','&','@']\n",
    "len(fa)"
   ]
  },
  {
   "cell_type": "code",
   "execution_count": 10,
   "metadata": {},
   "outputs": [],
   "source": [
    "#字符画处理\n",
    "# f_array = np.array([1,:],np.int32)\n",
    "# fa = (46,96,39,58,45,44,59,34,95,126,33,94,105,114,124,47,73,61,60,62,42,108,92,49,116,43,106,63,118,41,40,76,102,123,55,125,74,84,99,120,122,93,91,117,110,115,89,111,70,121,101,50,97,86,107,51,104,90,67,52,80,53,65,113,88,112,69,37,48,85,100,98,54,75,83,57,35,72,119,71,36,79,103,68,56,82,81,109,66,38,78,87,77,64)\n",
    "l_fa = len(fa)#94个值\n",
    "\n",
    "#chr(97)=a  ord(a)=97\n",
    "text = np.empty((height,width+1),np.chararray)\n",
    "\n",
    "for i in range(0,height):\n",
    "    for j in range(0,width):\n",
    "        Tgray = int(gray[i,j]//15)\n",
    "        st = fa[Tgray]   \n",
    "        text[i,j] = st\n",
    "    text[i,j+1] = '\\n'"
   ]
  },
  {
   "cell_type": "code",
   "execution_count": 11,
   "metadata": {
    "scrolled": true
   },
   "outputs": [],
   "source": [
    "#存储数据为TXT\n",
    "# np.savetxt(\"result.txt\", text,fmt='%s')\n",
    "tx = ''\n",
    "for i in range(0,height):\n",
    "    text1 = list(text[i,:])\n",
    "    text2 = ''.join(text1)\n",
    "    tx = tx+text2\n",
    "    \n",
    "data=open(\"fontdraw.txt\",'w+') \n",
    "print(tx,file=data)\n",
    "data.close()"
   ]
  },
  {
   "cell_type": "code",
   "execution_count": null,
   "metadata": {
    "collapsed": true
   },
   "outputs": [],
   "source": []
  }
 ],
 "metadata": {
  "kernelspec": {
   "display_name": "Python 3",
   "language": "python",
   "name": "python3"
  },
  "language_info": {
   "codemirror_mode": {
    "name": "ipython",
    "version": 3
   },
   "file_extension": ".py",
   "mimetype": "text/x-python",
   "name": "python",
   "nbconvert_exporter": "python",
   "pygments_lexer": "ipython3",
   "version": "3.6.7"
  }
 },
 "nbformat": 4,
 "nbformat_minor": 2
}
